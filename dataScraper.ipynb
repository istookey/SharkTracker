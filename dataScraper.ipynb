{
 "cells": [
  {
   "cell_type": "code",
   "execution_count": 2,
   "metadata": {},
   "outputs": [],
   "source": [
    "import json\n",
    "import urllib.request\n",
    "import pandas as pd\n",
    "import numpy as np\n",
    "import matplotlib.pyplot as plt"
   ]
  },
  {
   "cell_type": "code",
   "execution_count": 3,
   "metadata": {},
   "outputs": [],
   "source": [
    "req_string = \"http://mapotic.com/api/v1/maps/3413/pois/{}/motion/with-meta/?format=json\""
   ]
  },
  {
   "cell_type": "code",
   "execution_count": 4,
   "metadata": {},
   "outputs": [],
   "source": [
    "db_string = \"http://mapotic.com/api/v1/maps/3413/pois.geojson/?format=json\"\n",
    "\n",
    "req = urllib.request.Request(db_string,\n",
    "data=None, headers={\n",
    "        'User-Agent': 'Mozilla/5.0 (Macintosh; Intel Mac OS X 10_9_3) AppleWebKit/537.36 (KHTML, like Gecko) Chrome/35.0.1916.47 Safari/537.36'\n",
    "    })\n",
    "\n",
    "response = urllib.request.urlopen(req)\n",
    "\n",
    "json_data = json.loads(response.read())"
   ]
  },
  {
   "cell_type": "code",
   "execution_count": 5,
   "metadata": {},
   "outputs": [
    {
     "ename": "SyntaxError",
     "evalue": "closing parenthesis '}' does not match opening parenthesis '(' (<ipython-input-5-1ed6722e1b06>, line 13)",
     "output_type": "error",
     "traceback": [
      "\u001b[0;36m  File \u001b[0;32m\"<ipython-input-5-1ed6722e1b06>\"\u001b[0;36m, line \u001b[0;32m13\u001b[0m\n\u001b[0;31m    print(f'Number of Sharks: {count}'}\u001b[0m\n\u001b[0m                                      ^\u001b[0m\n\u001b[0;31mSyntaxError\u001b[0m\u001b[0;31m:\u001b[0m closing parenthesis '}' does not match opening parenthesis '('\n"
     ]
    }
   ],
   "source": [
    "count = 0\n",
    "\n",
    "ids = []\n",
    "\n",
    "for item in json_data['features']:\n",
    "    # Check if 'White Shark' is in the name of the species\n",
    "    if item['properties']['species'] is not None and 'White Shark' in item['properties']['species']:\n",
    "        count += 1\n",
    "\n",
    "        # append the id to the list\n",
    "        ids.append(item['properties']['id'])\n",
    "\n",
    "print(f'Number of Sharks: {count}'})"
   ]
  },
  {
   "cell_type": "code",
   "execution_count": null,
   "metadata": {},
   "outputs": [],
   "source": [
    "lats = []\n",
    "longs = []\n",
    "times = []\n",
    "\n",
    "# Get the data for every Shark\n",
    "for id in ids:\n",
    "    req = urllib.request.Request(req_string.format(id),\n",
    "    data=None, headers={\n",
    "            'User-Agent': 'Mozilla/5.0 (Macintosh; Intel Mac OS X 10_9_3) AppleWebKit/537.36 (KHTML, like Gecko) Chrome/35.0.1916.47 Safari/537.36'\n",
    "        })\n",
    "\n",
    "    response = urllib.request.urlopen(req)\n",
    "\n",
    "    json_data = json.loads(response.read())\n",
    "\n",
    "    point_objs = json_data['motion']\n",
    "\n",
    "    for obj in point_objs:\n",
    "        coord = obj['point']['coordinates']\n",
    "        times.append(obj['dt_move'])\n",
    "        lats.append(coord[0])\n",
    "        longs.append(coord[1])\n",
    "\n",
    "    count += 1\n",
    "\n",
    "df = pd.DataFrame()\n",
    "\n",
    "df['lat'] = lats\n",
    "df['long'] = longs\n",
    "df['time'] = times\n",
    "df['time'] = pd.to_datetime(df['time'])"
   ]
  },
  {
   "cell_type": "code",
   "execution_count": null,
   "metadata": {},
   "outputs": [],
   "source": [
    "df.to_csv('white_shark_data.csv', index=False)"
   ]
  },
  {
   "cell_type": "code",
   "execution_count": null,
   "metadata": {},
   "outputs": [],
   "source": [
    "df"
   ]
  },
  {
   "cell_type": "code",
   "execution_count": null,
   "metadata": {},
   "outputs": [],
   "source": [
    "df['month'] = df['time'].dt.month\n",
    "#df.head()\n",
    "\n",
    "americas = df.loc[df['lat'] < 0]\n",
    "\n",
    "africa = df.loc[df['lat'] > 0]"
   ]
  },
  {
   "cell_type": "code",
   "execution_count": null,
   "metadata": {},
   "outputs": [],
   "source": [
    "plt.scatter(americas['lat'], americas['long'], c=americas['month'], cmap='twilight_shifted', alpha=0.2, s=5)\n",
    "plt.gcf().set_size_inches(20, 20)\n",
    "plt.title('Sharks in the Americas')\n",
    "plt.show()"
   ]
  },
  {
   "cell_type": "code",
   "execution_count": null,
   "metadata": {},
   "outputs": [],
   "source": [
    "plt.scatter(africa['lat'], africa['long'], c=africa['month'], cmap='twilight_shifted', alpha=0.2, s=5)\n",
    "plt.gcf().set_size_inches(20, 20)\n",
    "plt.title('Sharks in Africa')\n",
    "plt.show()"
   ]
  }
 ],
 "metadata": {
  "interpreter": {
   "hash": "c41639db67be15e51ffe08f018462faa84bcb644fd3ef0f901f9f159be25f04f"
  },
  "kernelspec": {
   "display_name": "Python 3.8.8 ('base')",
   "language": "python",
   "name": "python3"
  },
  "language_info": {
   "codemirror_mode": {
    "name": "ipython",
    "version": 3
   },
   "file_extension": ".py",
   "mimetype": "text/x-python",
   "name": "python",
   "nbconvert_exporter": "python",
   "pygments_lexer": "ipython3",
   "version": "3.8.8"
  },
  "orig_nbformat": 4
 },
 "nbformat": 4,
 "nbformat_minor": 2
}
